{
 "cells": [
  {
   "cell_type": "code",
   "execution_count": 148,
   "id": "774fe84a",
   "metadata": {},
   "outputs": [],
   "source": [
    "import numpy as np\n",
    "np.bool = np.bool_\n",
    "import pandas as pd\n",
    "from sklearn.tree import (DecisionTreeClassifier as DTC, DecisionTreeRegressor as DTR)\n",
    "import sklearn.model_selection as skm\n",
    "from ISLP import confusion_table\n",
    "from sklearn.ensemble import RandomForestClassifier as RF\n",
    "from sklearn.ensemble import RandomForestRegressor as RFR\n",
    "from sklearn.ensemble import GradientBoostingClassifier as GBC\n",
    "from sklearn.tree import DecisionTreeRegressor as DTR\n",
    "from ISLP import load_data\n",
    "from ISLP.models import ModelSpec as MS\n",
    "from matplotlib.pyplot import subplots\n",
    "from sklearn.tree import plot_tree\n",
    "from sklearn.linear_model import Lasso\n",
    "import matplotlib.pyplot as plt\n",
    "from sklearn.preprocessing import StandardScaler\n",
    "import warnings\n",
    "warnings.filterwarnings('ignore')"
   ]
  },
  {
   "cell_type": "markdown",
   "id": "99f5bf6a",
   "metadata": {},
   "source": [
    "### Problem 1"
   ]
  },
  {
   "cell_type": "markdown",
   "id": "0f908d60",
   "metadata": {},
   "source": [
    "#### (a)"
   ]
  },
  {
   "cell_type": "code",
   "execution_count": 149,
   "id": "40c4529b",
   "metadata": {},
   "outputs": [],
   "source": [
    "np.random.seed(1)\n",
    "size = np.random.normal(1500, 300, 200)\n",
    "bedrooms = np.random.randint(low=1, high=6, size=200)\n",
    "age = np.random.normal(20, 5, 200)\n",
    "renovation = np.random.binomial(1, 0.3, size=200)\n",
    "noise_level = np.random.randint(low=1, high=11, size=200)\n",
    "price = size*100 + bedrooms*5000 - age*200 + renovation*10000 + noise_level*500\n",
    "probability = 1/(1+np.exp(166750-price))\n",
    "y = np.random.binomial(1, probability)\n",
    "y = np.matrix([y]).T\n",
    "xs = np.matrix([size, bedrooms, age, renovation, noise_level]).T\n",
    "column_values = ['size', 'bedrooms', 'age', 'renovation', 'noise_level']\n",
    "x_train = pd.DataFrame(data = xs[:100,:], columns = column_values)\n",
    "x_test = pd.DataFrame(data = xs[100:,:], columns = column_values)\n",
    "y_train = pd.DataFrame(data = y[:100,:], columns = ['y'])\n",
    "y_test = pd.DataFrame(data = y[100:,:], columns = ['y'])"
   ]
  },
  {
   "cell_type": "markdown",
   "id": "0319164b",
   "metadata": {},
   "source": [
    "#### (b)"
   ]
  },
  {
   "cell_type": "code",
   "execution_count": 150,
   "id": "c91c81b0",
   "metadata": {},
   "outputs": [
    {
     "name": "stdout",
     "output_type": "stream",
     "text": [
      "Confusion Matrix on Training Data:\n"
     ]
    },
    {
     "data": {
      "text/html": [
       "<div>\n",
       "<style scoped>\n",
       "    .dataframe tbody tr th:only-of-type {\n",
       "        vertical-align: middle;\n",
       "    }\n",
       "\n",
       "    .dataframe tbody tr th {\n",
       "        vertical-align: top;\n",
       "    }\n",
       "\n",
       "    .dataframe thead th {\n",
       "        text-align: right;\n",
       "    }\n",
       "</style>\n",
       "<table border=\"1\" class=\"dataframe\">\n",
       "  <thead>\n",
       "    <tr style=\"text-align: right;\">\n",
       "      <th>Truth</th>\n",
       "      <th>0</th>\n",
       "      <th>1</th>\n",
       "    </tr>\n",
       "    <tr>\n",
       "      <th>Predicted</th>\n",
       "      <th></th>\n",
       "      <th></th>\n",
       "    </tr>\n",
       "  </thead>\n",
       "  <tbody>\n",
       "    <tr>\n",
       "      <th>0</th>\n",
       "      <td>46</td>\n",
       "      <td>0</td>\n",
       "    </tr>\n",
       "    <tr>\n",
       "      <th>1</th>\n",
       "      <td>0</td>\n",
       "      <td>54</td>\n",
       "    </tr>\n",
       "  </tbody>\n",
       "</table>\n",
       "</div>"
      ],
      "text/plain": [
       "Truth       0   1\n",
       "Predicted        \n",
       "0          46   0\n",
       "1           0  54"
      ]
     },
     "execution_count": 150,
     "metadata": {},
     "output_type": "execute_result"
    }
   ],
   "source": [
    "np.random.seed(1)\n",
    "clf = DTC(criterion='entropy', random_state=0)\n",
    "ccp_path = clf.cost_complexity_pruning_path(x_train, y_train)\n",
    "kfold = skm.KFold(5, random_state=1, shuffle=True)\n",
    "grid = skm.GridSearchCV(clf, {'ccp_alpha': ccp_path.ccp_alphas}, refit = True, cv=kfold, scoring='accuracy')\n",
    "grid.fit(x_train, y_train)\n",
    "best_ = grid.best_estimator_\n",
    "confusion_train = confusion_table(best_.predict(x_train), y_train['y'])\n",
    "confusion_test = confusion_table(best_.predict(x_test), y_test['y'])\n",
    "print(\"Confusion Matrix on Training Data:\")\n",
    "confusion_train"
   ]
  },
  {
   "cell_type": "code",
   "execution_count": 151,
   "id": "ed5afb80",
   "metadata": {},
   "outputs": [
    {
     "name": "stdout",
     "output_type": "stream",
     "text": [
      "Confusion Matrix on Test Data:\n"
     ]
    },
    {
     "data": {
      "text/html": [
       "<div>\n",
       "<style scoped>\n",
       "    .dataframe tbody tr th:only-of-type {\n",
       "        vertical-align: middle;\n",
       "    }\n",
       "\n",
       "    .dataframe tbody tr th {\n",
       "        vertical-align: top;\n",
       "    }\n",
       "\n",
       "    .dataframe thead th {\n",
       "        text-align: right;\n",
       "    }\n",
       "</style>\n",
       "<table border=\"1\" class=\"dataframe\">\n",
       "  <thead>\n",
       "    <tr style=\"text-align: right;\">\n",
       "      <th>Truth</th>\n",
       "      <th>0</th>\n",
       "      <th>1</th>\n",
       "    </tr>\n",
       "    <tr>\n",
       "      <th>Predicted</th>\n",
       "      <th></th>\n",
       "      <th></th>\n",
       "    </tr>\n",
       "  </thead>\n",
       "  <tbody>\n",
       "    <tr>\n",
       "      <th>0</th>\n",
       "      <td>35</td>\n",
       "      <td>7</td>\n",
       "    </tr>\n",
       "    <tr>\n",
       "      <th>1</th>\n",
       "      <td>2</td>\n",
       "      <td>56</td>\n",
       "    </tr>\n",
       "  </tbody>\n",
       "</table>\n",
       "</div>"
      ],
      "text/plain": [
       "Truth       0   1\n",
       "Predicted        \n",
       "0          35   7\n",
       "1           2  56"
      ]
     },
     "execution_count": 151,
     "metadata": {},
     "output_type": "execute_result"
    }
   ],
   "source": [
    "print(\"Confusion Matrix on Test Data:\")\n",
    "confusion_test"
   ]
  },
  {
   "cell_type": "markdown",
   "id": "9c9e2e54",
   "metadata": {},
   "source": [
    "#### (c)"
   ]
  },
  {
   "cell_type": "code",
   "execution_count": 152,
   "id": "ae5c306d",
   "metadata": {},
   "outputs": [
    {
     "name": "stdout",
     "output_type": "stream",
     "text": [
      "Confusion Matrix on Training Data:\n"
     ]
    },
    {
     "data": {
      "text/html": [
       "<div>\n",
       "<style scoped>\n",
       "    .dataframe tbody tr th:only-of-type {\n",
       "        vertical-align: middle;\n",
       "    }\n",
       "\n",
       "    .dataframe tbody tr th {\n",
       "        vertical-align: top;\n",
       "    }\n",
       "\n",
       "    .dataframe thead th {\n",
       "        text-align: right;\n",
       "    }\n",
       "</style>\n",
       "<table border=\"1\" class=\"dataframe\">\n",
       "  <thead>\n",
       "    <tr style=\"text-align: right;\">\n",
       "      <th>Truth</th>\n",
       "      <th>0</th>\n",
       "      <th>1</th>\n",
       "    </tr>\n",
       "    <tr>\n",
       "      <th>Predicted</th>\n",
       "      <th></th>\n",
       "      <th></th>\n",
       "    </tr>\n",
       "  </thead>\n",
       "  <tbody>\n",
       "    <tr>\n",
       "      <th>0</th>\n",
       "      <td>44</td>\n",
       "      <td>1</td>\n",
       "    </tr>\n",
       "    <tr>\n",
       "      <th>1</th>\n",
       "      <td>2</td>\n",
       "      <td>53</td>\n",
       "    </tr>\n",
       "  </tbody>\n",
       "</table>\n",
       "</div>"
      ],
      "text/plain": [
       "Truth       0   1\n",
       "Predicted        \n",
       "0          44   1\n",
       "1           2  53"
      ]
     },
     "execution_count": 152,
     "metadata": {},
     "output_type": "execute_result"
    }
   ],
   "source": [
    "np.random.seed(1)\n",
    "clf = RF()\n",
    "param_grid = {'n_estimators': [5, 10, 20, 40, 70, 100, 150], 'max_depth': [2, 5, 7, 9, 15, 30, 50], \n",
    "              'min_samples_split': [2, 3, 4, 6, 8, 10], 'max_features': ['sqrt', 'log2']}\n",
    "kfold = skm.KFold(5, random_state=1, shuffle=True)\n",
    "grid = skm.GridSearchCV(clf, param_grid, refit = True, cv=kfold, scoring='accuracy')\n",
    "grid.fit(x_train, y_train)\n",
    "best_ = grid.best_estimator_\n",
    "confusion_train = confusion_table(best_.predict(x_train), y_train['y'])\n",
    "confusion_test = confusion_table(best_.predict(x_test), y_test['y'])\n",
    "print(\"Confusion Matrix on Training Data:\")\n",
    "confusion_train"
   ]
  },
  {
   "cell_type": "code",
   "execution_count": 64,
   "id": "ea812d41",
   "metadata": {},
   "outputs": [
    {
     "name": "stdout",
     "output_type": "stream",
     "text": [
      "Confusion Matrix on Test Data:\n"
     ]
    },
    {
     "data": {
      "text/html": [
       "<div>\n",
       "<style scoped>\n",
       "    .dataframe tbody tr th:only-of-type {\n",
       "        vertical-align: middle;\n",
       "    }\n",
       "\n",
       "    .dataframe tbody tr th {\n",
       "        vertical-align: top;\n",
       "    }\n",
       "\n",
       "    .dataframe thead th {\n",
       "        text-align: right;\n",
       "    }\n",
       "</style>\n",
       "<table border=\"1\" class=\"dataframe\">\n",
       "  <thead>\n",
       "    <tr style=\"text-align: right;\">\n",
       "      <th>Truth</th>\n",
       "      <th>0</th>\n",
       "      <th>1</th>\n",
       "    </tr>\n",
       "    <tr>\n",
       "      <th>Predicted</th>\n",
       "      <th></th>\n",
       "      <th></th>\n",
       "    </tr>\n",
       "  </thead>\n",
       "  <tbody>\n",
       "    <tr>\n",
       "      <th>0</th>\n",
       "      <td>36</td>\n",
       "      <td>7</td>\n",
       "    </tr>\n",
       "    <tr>\n",
       "      <th>1</th>\n",
       "      <td>1</td>\n",
       "      <td>56</td>\n",
       "    </tr>\n",
       "  </tbody>\n",
       "</table>\n",
       "</div>"
      ],
      "text/plain": [
       "Truth       0   1\n",
       "Predicted        \n",
       "0          36   7\n",
       "1           1  56"
      ]
     },
     "execution_count": 64,
     "metadata": {},
     "output_type": "execute_result"
    }
   ],
   "source": [
    "print(\"Confusion Matrix on Test Data:\")\n",
    "confusion_test"
   ]
  },
  {
   "cell_type": "markdown",
   "id": "ba9ef29a",
   "metadata": {},
   "source": [
    "#### (d)"
   ]
  },
  {
   "cell_type": "code",
   "execution_count": 65,
   "id": "0c1a195d",
   "metadata": {},
   "outputs": [
    {
     "name": "stdout",
     "output_type": "stream",
     "text": [
      "Confusion Matrix on Training Data:\n"
     ]
    },
    {
     "data": {
      "text/html": [
       "<div>\n",
       "<style scoped>\n",
       "    .dataframe tbody tr th:only-of-type {\n",
       "        vertical-align: middle;\n",
       "    }\n",
       "\n",
       "    .dataframe tbody tr th {\n",
       "        vertical-align: top;\n",
       "    }\n",
       "\n",
       "    .dataframe thead th {\n",
       "        text-align: right;\n",
       "    }\n",
       "</style>\n",
       "<table border=\"1\" class=\"dataframe\">\n",
       "  <thead>\n",
       "    <tr style=\"text-align: right;\">\n",
       "      <th>Truth</th>\n",
       "      <th>0</th>\n",
       "      <th>1</th>\n",
       "    </tr>\n",
       "    <tr>\n",
       "      <th>Predicted</th>\n",
       "      <th></th>\n",
       "      <th></th>\n",
       "    </tr>\n",
       "  </thead>\n",
       "  <tbody>\n",
       "    <tr>\n",
       "      <th>0</th>\n",
       "      <td>46</td>\n",
       "      <td>0</td>\n",
       "    </tr>\n",
       "    <tr>\n",
       "      <th>1</th>\n",
       "      <td>0</td>\n",
       "      <td>54</td>\n",
       "    </tr>\n",
       "  </tbody>\n",
       "</table>\n",
       "</div>"
      ],
      "text/plain": [
       "Truth       0   1\n",
       "Predicted        \n",
       "0          46   0\n",
       "1           0  54"
      ]
     },
     "execution_count": 65,
     "metadata": {},
     "output_type": "execute_result"
    }
   ],
   "source": [
    "np.random.seed(1)\n",
    "clf = GBC()\n",
    "param_grid = {'learning_rate': [0.01, 0.05, 0.1, 0.5], 'n_estimators': [5, 10, 20, 40, 70, 100, 150], \n",
    "              'min_samples_split': [2, 3, 4, 6, 8, 10], 'max_depth': [1, 2, 3, 4, 5, 7, 10]}\n",
    "kfold = skm.KFold(5, random_state=1, shuffle=True)\n",
    "grid = skm.GridSearchCV(clf, param_grid, refit = True, cv=kfold, scoring='accuracy')\n",
    "grid.fit(x_train, y_train)\n",
    "best_ = grid.best_estimator_\n",
    "confusion_train = confusion_table(best_.predict(x_train), y_train['y'])\n",
    "confusion_test = confusion_table(best_.predict(x_test), y_test['y'])\n",
    "print(\"Confusion Matrix on Training Data:\")\n",
    "confusion_train"
   ]
  },
  {
   "cell_type": "code",
   "execution_count": 66,
   "id": "3f4f432c",
   "metadata": {},
   "outputs": [
    {
     "name": "stdout",
     "output_type": "stream",
     "text": [
      "Confusion Matrix on Test Data:\n"
     ]
    },
    {
     "data": {
      "text/html": [
       "<div>\n",
       "<style scoped>\n",
       "    .dataframe tbody tr th:only-of-type {\n",
       "        vertical-align: middle;\n",
       "    }\n",
       "\n",
       "    .dataframe tbody tr th {\n",
       "        vertical-align: top;\n",
       "    }\n",
       "\n",
       "    .dataframe thead th {\n",
       "        text-align: right;\n",
       "    }\n",
       "</style>\n",
       "<table border=\"1\" class=\"dataframe\">\n",
       "  <thead>\n",
       "    <tr style=\"text-align: right;\">\n",
       "      <th>Truth</th>\n",
       "      <th>0</th>\n",
       "      <th>1</th>\n",
       "    </tr>\n",
       "    <tr>\n",
       "      <th>Predicted</th>\n",
       "      <th></th>\n",
       "      <th></th>\n",
       "    </tr>\n",
       "  </thead>\n",
       "  <tbody>\n",
       "    <tr>\n",
       "      <th>0</th>\n",
       "      <td>35</td>\n",
       "      <td>8</td>\n",
       "    </tr>\n",
       "    <tr>\n",
       "      <th>1</th>\n",
       "      <td>2</td>\n",
       "      <td>55</td>\n",
       "    </tr>\n",
       "  </tbody>\n",
       "</table>\n",
       "</div>"
      ],
      "text/plain": [
       "Truth       0   1\n",
       "Predicted        \n",
       "0          35   8\n",
       "1           2  55"
      ]
     },
     "execution_count": 66,
     "metadata": {},
     "output_type": "execute_result"
    }
   ],
   "source": [
    "print(\"Confusion Matrix on Test Data:\")\n",
    "confusion_test"
   ]
  },
  {
   "cell_type": "markdown",
   "id": "59fe5aeb",
   "metadata": {},
   "source": [
    "### Problem 2"
   ]
  },
  {
   "cell_type": "markdown",
   "id": "5148375f",
   "metadata": {},
   "source": [
    "#### (a)"
   ]
  },
  {
   "cell_type": "code",
   "execution_count": 153,
   "id": "1f2a9067",
   "metadata": {},
   "outputs": [],
   "source": [
    "carseats = load_data('Carseats')\n",
    "y = carseats[['Sales']]\n",
    "model = MS(carseats.columns.drop('Sales'), intercept=False)\n",
    "D = model.fit_transform(carseats)\n",
    "feature_names = list(D.columns)\n",
    "x = np.asarray(D)\n",
    "x_train = x[:280,:]\n",
    "x_test = x[280:,:]\n",
    "y_train = y.iloc[:280]\n",
    "y_test = y.iloc[280:]"
   ]
  },
  {
   "cell_type": "code",
   "execution_count": 154,
   "id": "87f7511b",
   "metadata": {},
   "outputs": [
    {
     "name": "stdout",
     "output_type": "stream",
     "text": [
      "Full Tree Test MSE: 6.582816666666662\n",
      "Full Tree Number of Terminal Nodes: 278\n"
     ]
    }
   ],
   "source": [
    "np.random.seed(1)\n",
    "reg = DTR()\n",
    "reg.fit(x_train, y_train)\n",
    "test_pred = reg.predict(x_test)\n",
    "mse = (np.mean((y_test['Sales'] - test_pred)**2))\n",
    "print('Full Tree Test MSE: '+ str(mse))\n",
    "print('Full Tree Number of Terminal Nodes: ' + str(reg.get_n_leaves()))"
   ]
  },
  {
   "cell_type": "code",
   "execution_count": 155,
   "id": "1349a6db",
   "metadata": {},
   "outputs": [
    {
     "name": "stdout",
     "output_type": "stream",
     "text": [
      "Pruned Tree Test MSE: 5.785231171044125\n",
      "Pruned Tree Number of Terminal Nodes: 59\n"
     ]
    }
   ],
   "source": [
    "np.random.seed(1)\n",
    "reg = DTR()\n",
    "ccp_path = reg.cost_complexity_pruning_path(x_train, y_train)\n",
    "kfold = skm.KFold(5, random_state=1, shuffle=True)\n",
    "grid = skm.GridSearchCV(reg, {'ccp_alpha': ccp_path.ccp_alphas}, refit = True, cv=kfold)\n",
    "grid.fit(x_train, y_train)\n",
    "best_ = grid.best_estimator_\n",
    "test_pred = best_.predict(x_test)\n",
    "mse = (np.mean((y_test['Sales'] - test_pred)**2))\n",
    "print('Pruned Tree Test MSE: '+ str(mse))\n",
    "print('Pruned Tree Number of Terminal Nodes: ' + str(best_.get_n_leaves()))"
   ]
  },
  {
   "cell_type": "markdown",
   "id": "bd45a928",
   "metadata": {},
   "source": [
    "#### (b)"
   ]
  },
  {
   "cell_type": "code",
   "execution_count": 156,
   "id": "234e316c",
   "metadata": {},
   "outputs": [
    {
     "name": "stdout",
     "output_type": "stream",
     "text": [
      "Test MSE: 2.680013046666666\n"
     ]
    },
    {
     "data": {
      "text/html": [
       "<div>\n",
       "<style scoped>\n",
       "    .dataframe tbody tr th:only-of-type {\n",
       "        vertical-align: middle;\n",
       "    }\n",
       "\n",
       "    .dataframe tbody tr th {\n",
       "        vertical-align: top;\n",
       "    }\n",
       "\n",
       "    .dataframe thead th {\n",
       "        text-align: right;\n",
       "    }\n",
       "</style>\n",
       "<table border=\"1\" class=\"dataframe\">\n",
       "  <thead>\n",
       "    <tr style=\"text-align: right;\">\n",
       "      <th></th>\n",
       "      <th>importance</th>\n",
       "    </tr>\n",
       "  </thead>\n",
       "  <tbody>\n",
       "    <tr>\n",
       "      <th>Price</th>\n",
       "      <td>0.295070</td>\n",
       "    </tr>\n",
       "    <tr>\n",
       "      <th>ShelveLoc[Good]</th>\n",
       "      <td>0.246575</td>\n",
       "    </tr>\n",
       "    <tr>\n",
       "      <th>CompPrice</th>\n",
       "      <td>0.128431</td>\n",
       "    </tr>\n",
       "    <tr>\n",
       "      <th>Age</th>\n",
       "      <td>0.081979</td>\n",
       "    </tr>\n",
       "    <tr>\n",
       "      <th>Advertising</th>\n",
       "      <td>0.076885</td>\n",
       "    </tr>\n",
       "    <tr>\n",
       "      <th>Income</th>\n",
       "      <td>0.055461</td>\n",
       "    </tr>\n",
       "    <tr>\n",
       "      <th>Population</th>\n",
       "      <td>0.039354</td>\n",
       "    </tr>\n",
       "    <tr>\n",
       "      <th>ShelveLoc[Medium]</th>\n",
       "      <td>0.037745</td>\n",
       "    </tr>\n",
       "    <tr>\n",
       "      <th>Education</th>\n",
       "      <td>0.029146</td>\n",
       "    </tr>\n",
       "    <tr>\n",
       "      <th>Urban[Yes]</th>\n",
       "      <td>0.005790</td>\n",
       "    </tr>\n",
       "    <tr>\n",
       "      <th>US[Yes]</th>\n",
       "      <td>0.003564</td>\n",
       "    </tr>\n",
       "  </tbody>\n",
       "</table>\n",
       "</div>"
      ],
      "text/plain": [
       "                   importance\n",
       "Price                0.295070\n",
       "ShelveLoc[Good]      0.246575\n",
       "CompPrice            0.128431\n",
       "Age                  0.081979\n",
       "Advertising          0.076885\n",
       "Income               0.055461\n",
       "Population           0.039354\n",
       "ShelveLoc[Medium]    0.037745\n",
       "Education            0.029146\n",
       "Urban[Yes]           0.005790\n",
       "US[Yes]              0.003564"
      ]
     },
     "execution_count": 156,
     "metadata": {},
     "output_type": "execute_result"
    }
   ],
   "source": [
    "np.random.seed(1)\n",
    "bag = RFR(max_features=x_train.shape[1], random_state=0)\n",
    "bag.fit(x_train, y_train)\n",
    "test_pred = bag.predict(x_test)\n",
    "mse = (np.mean((y_test['Sales'] - test_pred)**2))\n",
    "print('Test MSE: '+ str(mse))\n",
    "feature_imp = pd.DataFrame( {'importance':bag.feature_importances_}, index=feature_names)\n",
    "feature_imp.sort_values(by='importance', ascending=False)"
   ]
  },
  {
   "cell_type": "markdown",
   "id": "e2781045",
   "metadata": {},
   "source": [
    "#### (c)"
   ]
  },
  {
   "cell_type": "code",
   "execution_count": 157,
   "id": "e12b7b77",
   "metadata": {},
   "outputs": [
    {
     "data": {
      "text/plain": [
       "Text(0, 0.5, 'Test MSE')"
      ]
     },
     "execution_count": 157,
     "metadata": {},
     "output_type": "execute_result"
    },
    {
     "data": {
      "image/png": "[encoded data removed]",
      "text/plain": [
       "<Figure size 576x576 with 1 Axes>"
      ]
     },
     "metadata": {
      "needs_background": "light"
     },
     "output_type": "display_data"
    }
   ],
   "source": [
    "np.random.seed(1)\n",
    "m = list(range(1, x_train.shape[1]+1))\n",
    "mse = []\n",
    "for n in range(1, x_train.shape[1]+1):\n",
    "    bag = RFR(max_features=n, random_state=0)\n",
    "    bag.fit(x_train, y_train)\n",
    "    test_pred = bag.predict(x_test)\n",
    "    mse1 = (np.mean((y_test['Sales'] - test_pred)**2))\n",
    "    mse.append(mse1)\n",
    "ax = subplots(figsize=(8,8))[1]\n",
    "ax.plot(m, mse)\n",
    "ax.set_xlabel('Number of Predictors', fontsize=20) \n",
    "ax.set_ylabel('Test MSE', fontsize=20)"
   ]
  },
  {
   "cell_type": "code",
   "execution_count": 158,
   "id": "eb83639d",
   "metadata": {},
   "outputs": [
    {
     "data": {
      "text/plain": [
       "3.3166247903554"
      ]
     },
     "execution_count": 158,
     "metadata": {},
     "output_type": "execute_result"
    }
   ],
   "source": [
    "np.sqrt(x_train.shape[1])"
   ]
  },
  {
   "cell_type": "code",
   "execution_count": 159,
   "id": "27a11314",
   "metadata": {},
   "outputs": [
    {
     "name": "stdout",
     "output_type": "stream",
     "text": [
      "Test MSE: 3.0026211910833323\n"
     ]
    },
    {
     "data": {
      "text/html": [
       "<div>\n",
       "<style scoped>\n",
       "    .dataframe tbody tr th:only-of-type {\n",
       "        vertical-align: middle;\n",
       "    }\n",
       "\n",
       "    .dataframe tbody tr th {\n",
       "        vertical-align: top;\n",
       "    }\n",
       "\n",
       "    .dataframe thead th {\n",
       "        text-align: right;\n",
       "    }\n",
       "</style>\n",
       "<table border=\"1\" class=\"dataframe\">\n",
       "  <thead>\n",
       "    <tr style=\"text-align: right;\">\n",
       "      <th></th>\n",
       "      <th>importance</th>\n",
       "    </tr>\n",
       "  </thead>\n",
       "  <tbody>\n",
       "    <tr>\n",
       "      <th>Price</th>\n",
       "      <td>0.249693</td>\n",
       "    </tr>\n",
       "    <tr>\n",
       "      <th>ShelveLoc[Good]</th>\n",
       "      <td>0.166921</td>\n",
       "    </tr>\n",
       "    <tr>\n",
       "      <th>CompPrice</th>\n",
       "      <td>0.103150</td>\n",
       "    </tr>\n",
       "    <tr>\n",
       "      <th>Age</th>\n",
       "      <td>0.100731</td>\n",
       "    </tr>\n",
       "    <tr>\n",
       "      <th>Advertising</th>\n",
       "      <td>0.093528</td>\n",
       "    </tr>\n",
       "    <tr>\n",
       "      <th>Income</th>\n",
       "      <td>0.088623</td>\n",
       "    </tr>\n",
       "    <tr>\n",
       "      <th>Population</th>\n",
       "      <td>0.082494</td>\n",
       "    </tr>\n",
       "    <tr>\n",
       "      <th>Education</th>\n",
       "      <td>0.053251</td>\n",
       "    </tr>\n",
       "    <tr>\n",
       "      <th>ShelveLoc[Medium]</th>\n",
       "      <td>0.034651</td>\n",
       "    </tr>\n",
       "    <tr>\n",
       "      <th>US[Yes]</th>\n",
       "      <td>0.014007</td>\n",
       "    </tr>\n",
       "    <tr>\n",
       "      <th>Urban[Yes]</th>\n",
       "      <td>0.012951</td>\n",
       "    </tr>\n",
       "  </tbody>\n",
       "</table>\n",
       "</div>"
      ],
      "text/plain": [
       "                   importance\n",
       "Price                0.249693\n",
       "ShelveLoc[Good]      0.166921\n",
       "CompPrice            0.103150\n",
       "Age                  0.100731\n",
       "Advertising          0.093528\n",
       "Income               0.088623\n",
       "Population           0.082494\n",
       "Education            0.053251\n",
       "ShelveLoc[Medium]    0.034651\n",
       "US[Yes]              0.014007\n",
       "Urban[Yes]           0.012951"
      ]
     },
     "execution_count": 159,
     "metadata": {},
     "output_type": "execute_result"
    }
   ],
   "source": [
    "np.random.seed(1)\n",
    "bag = RFR(max_features=3, random_state=0)\n",
    "bag.fit(x_train, y_train)\n",
    "test_pred = bag.predict(x_test)\n",
    "mse = (np.mean((y_test['Sales'] - test_pred)**2))\n",
    "print('Test MSE: '+ str(mse))\n",
    "feature_imp = pd.DataFrame( {'importance':bag.feature_importances_}, index=feature_names)\n",
    "feature_imp.sort_values(by='importance', ascending=False)"
   ]
  },
  {
   "cell_type": "markdown",
   "id": "3541e691",
   "metadata": {},
   "source": [
    "#### (d)"
   ]
  },
  {
   "cell_type": "code",
   "execution_count": 162,
   "id": "e2f0221f",
   "metadata": {},
   "outputs": [
    {
     "data": {
      "image/png": "[encoded data removed]",
      "text/plain": [
       "<Figure size 432x288 with 1 Axes>"
      ]
     },
     "metadata": {
      "needs_background": "light"
     },
     "output_type": "display_data"
    }
   ],
   "source": [
    "np.random.seed(1)\n",
    "alphas = 20**np.linspace(5,-5,100)\n",
    "coefs = pd.DataFrame(columns=['CompPrice', 'Income', 'Advertising', 'Population', 'Price',\n",
    "       'ShelveLoc[Good]', 'ShelveLoc[Medium]', 'Age', 'Education',\n",
    "       'Urban[Yes]', 'US[Yes]', 'alpha'])\n",
    "x1 = x.copy()\n",
    "x_scale = StandardScaler().fit(x1)\n",
    "lasso = Lasso(normalize = True)\n",
    "i = 0\n",
    "for alpha in alphas:\n",
    "    lasso.set_params(alpha = alpha)\n",
    "    lasso.fit(x_scale.transform(x1), y)\n",
    "    coefs.loc[i] = np.append(lasso.coef_, alpha)\n",
    "    i += 1\n",
    "ax = plt.gca()\n",
    "ax.plot(alphas, coefs['CompPrice'], label = 'CompPrice')\n",
    "ax.plot(alphas, coefs['Income'], label = 'Income')\n",
    "ax.plot(alphas, coefs['Advertising'], label = 'Advertising')\n",
    "ax.plot(alphas, coefs['Population'], label = 'Population')\n",
    "ax.plot(alphas, coefs['Price'], label = 'Price')\n",
    "ax.plot(alphas, coefs['ShelveLoc[Good]'], label = 'ShelveLoc[Good]')\n",
    "ax.plot(alphas, coefs['ShelveLoc[Medium]'], label = 'ShelveLoc[Medium]')\n",
    "ax.plot(alphas, coefs['Age'], label = 'Age')\n",
    "ax.plot(alphas, coefs['Education'], label = 'Education')\n",
    "ax.plot(alphas, coefs['Urban[Yes]'], label = 'Urban[Yes]')\n",
    "ax.plot(alphas, coefs['US[Yes]'], label = 'US[Yes]')\n",
    "ax.set_xscale('log')\n",
    "plt.xlabel('Alpha')\n",
    "plt.ylabel('Standardized Coefficients')\n",
    "plt.legend(loc='upper right')\n",
    "plt.show()"
   ]
  }
 ],
 "metadata": {
  "kernelspec": {
   "display_name": "Python 3 (ipykernel)",
   "language": "python",
   "name": "python3"
  },
  "language_info": {
   "codemirror_mode": {
    "name": "ipython",
    "version": 3
   },
   "file_extension": ".py",
   "mimetype": "text/x-python",
   "name": "python",
   "nbconvert_exporter": "python",
   "pygments_lexer": "ipython3",
   "version": "3.9.12"
  }
 },
 "nbformat": 4,
 "nbformat_minor": 5
}
